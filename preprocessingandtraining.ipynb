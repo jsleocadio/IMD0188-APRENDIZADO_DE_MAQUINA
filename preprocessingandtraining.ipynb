{
 "cells": [
  {
   "cell_type": "markdown",
   "metadata": {},
   "source": [
    "## Configure nltk"
   ]
  },
  {
   "cell_type": "code",
   "execution_count": null,
   "metadata": {},
   "outputs": [],
   "source": [
    "import nltk\n",
    "\n",
    "nltk.download('stopwords')\n",
    "!python -m spacy download pt_core_news_sm"
   ]
  },
  {
   "cell_type": "markdown",
   "metadata": {},
   "source": [
    "## Load data from file"
   ]
  },
  {
   "cell_type": "code",
   "execution_count": null,
   "metadata": {},
   "outputs": [],
   "source": [
    "import pandas as pd\n",
    "from sqlalchemy import create_engine\n",
    "\n",
    "# Load data from file\n",
    "data = pd.read_csv('data.csv')"
   ]
  },
  {
   "cell_type": "markdown",
   "metadata": {},
   "source": [
    "## Category analysis"
   ]
  },
  {
   "cell_type": "code",
   "execution_count": null,
   "metadata": {},
   "outputs": [],
   "source": [
    "### Get all distinct full categories\n",
    "categories = data.drop_duplicates(subset=['fullcategory'])[['category', 'fullcategory']]\n",
    "\n",
    "# Split full categories by level\n",
    "categories_split = categories.join(\n",
    "    categories['fullcategory'].str.split(' > ', expand=True)\n",
    ").rename(columns={0: 'category1', 1: 'category2', 2: 'category3'})[['category1', 'category2', 'category3', 'category', 'fullcategory']]\n",
    "\n",
    "# print(categories_split.drop_duplicates(subset=['category1'])[['category1']].dropna().count())\n",
    "# print(categories_split.drop_duplicates(subset=['category2'])[['category2']].dropna().count())\n",
    "# print(categories_split.drop_duplicates(subset=['category3'])[['category3']].dropna().count())\n",
    "\n",
    "# comparison = categories_split[['category1', 'category2', 'category3', 'category']].copy()\n",
    "\n",
    "# for column in ['category1', 'category2', 'category3']:\n",
    "#     comparison[column] = categories_split[['category',column]].dropna()['category'] == categories_split[column].dropna()\n",
    "\n",
    "# Merge data with split categories\n",
    "data_category = data.set_index('fullcategory').join(categories_split[['fullcategory','category1', 'category2', 'category3']].set_index('fullcategory'))\n",
    "\n",
    "# Reset index\n",
    "data_category = data_category.reset_index()\n",
    "\n",
    "data_category.head()"
   ]
  },
  {
   "cell_type": "markdown",
   "metadata": {},
   "source": [
    "## Clean data"
   ]
  },
  {
   "cell_type": "code",
   "execution_count": null,
   "metadata": {},
   "outputs": [],
   "source": [
    "# Drop missing values for category1\n",
    "data_category = data_category.dropna(subset=['category1'])\n"
   ]
  },
  {
   "cell_type": "code",
   "execution_count": null,
   "metadata": {},
   "outputs": [],
   "source": [
    "# def remove_noise(text):\n",
    "#     import re\n",
    "\n",
    "#     # Converte para minúsculas\n",
    "#     text = text.lower()\n",
    "\n",
    "#     # Remove pontuação\n",
    "#     # []: colchetes são usados para definir uma classe de caracteres.\n",
    "#     # ^: quando usado no início de uma classe de caracteres, o ^ nega a classe, ou seja, seleciona tudo que não está na classe.\n",
    "#     # \\w: corresponde a qualquer caractere alfanumérico (letras e números, incluindo o caractere de sublinhado _)\n",
    "#     # \\s: corresponde a qualquer espaço em branco (espaços, tabulações, quebras de linha).\n",
    "#     text = re.sub(r'[^\\w\\s]', '', text)\n",
    "\n",
    "#     return text"
   ]
  },
  {
   "cell_type": "code",
   "execution_count": null,
   "metadata": {},
   "outputs": [],
   "source": [
    "# columns_to_clean = ['name','content']\n",
    "\n",
    "# for column in columns_to_clean:\n",
    "#     data[column] = data[column].apply(remove_noise)\n",
    "# data.head(5)"
   ]
  },
  {
   "cell_type": "code",
   "execution_count": null,
   "metadata": {},
   "outputs": [],
   "source": [
    "# def remove_stopwords(text):\n",
    "#     from nltk.corpus import stopwords\n",
    "#     # Obtém a lista de stopwords em português usando o NLTK e as converte para um conjunto para melhorar a eficiência da busca\n",
    "#     stop_words = set(stopwords.words('portuguese'))\n",
    "\n",
    "#     # Divide o texto em palavras, remove as stopwords e então junta as palavras restantes de volta em uma string\n",
    "#     text = ' '.join([word for word in text.split() if word not in stop_words])\n",
    "\n",
    "#     return text"
   ]
  },
  {
   "cell_type": "code",
   "execution_count": null,
   "metadata": {},
   "outputs": [],
   "source": [
    "# for column in columns_to_clean:\n",
    "#     data[column] = data[column].apply(remove_stopwords)\n",
    "\n",
    "# data.head(5)"
   ]
  },
  {
   "cell_type": "markdown",
   "metadata": {},
   "source": [
    "## Spliting dataset"
   ]
  },
  {
   "cell_type": "code",
   "execution_count": null,
   "metadata": {},
   "outputs": [],
   "source": [
    "# from sklearn.preprocessing import OneHotEncoder\n",
    "\n",
    "# # Cria um objeto OneHotEncoder\n",
    "# encoder = OneHotEncoder(sparse_output=False)\n",
    "\n",
    "# enc_category1 = encoder.fit_transform(data_category[['category1']])\n",
    "\n",
    "# data_category = pd.concat([data_category, pd.DataFrame(enc_category1, columns=encoder.get_feature_names_out(['category1']))], axis=1)\n",
    "\n",
    "# data_category.head()"
   ]
  },
  {
   "cell_type": "code",
   "execution_count": null,
   "metadata": {},
   "outputs": [],
   "source": [
    "from sklearn.model_selection import train_test_split\n",
    "\n",
    "X_train_val, X_test, y_train_val, y_test = train_test_split(data_category[['name', 'content']], data_category['category1'], test_size=0.3, random_state=42)\n",
    "\n",
    "X_train, X_val, y_train, y_val = train_test_split(X_train_val, y_train_val, test_size=0.5, random_state=42)\n",
    "\n",
    "data_train = pd.concat([X_train, y_train], axis=1)\n",
    "data_val = pd.concat([X_val, y_val], axis=1)\n",
    "data_test = pd.concat([X_test, y_test], axis=1)\n",
    "\n",
    "# data_train.head()\n",
    "# data_train.head()\n",
    "# data_test.head()"
   ]
  },
  {
   "cell_type": "markdown",
   "metadata": {},
   "source": [
    "## Lemmatization and vectorization"
   ]
  },
  {
   "cell_type": "code",
   "execution_count": null,
   "metadata": {},
   "outputs": [],
   "source": [
    "def tokenize_and_lemmatize(text):\n",
    "\n",
    "    import spacy, regex as re\n",
    "    nlp = spacy.load('pt_core_news_sm')\n",
    "\n",
    "    doc = nlp(text)\n",
    "    tokens = [\n",
    "        token.lemma_ \n",
    "        for token in doc \n",
    "        if \n",
    "        not re.search(r'[^\\w\\s]|[\\d]|[\\w\\-\\.]+@([\\w-]+\\.)+[\\w-]{2,}|[\\r\\n\\t]', token.lemma_) \n",
    "        and \n",
    "        token.is_stop == False\n",
    "        ]\n",
    "    return tokens\n",
    "\n",
    "teste = data['content'].sample(100).iloc[0]\n",
    "\n",
    "tokenize_and_lemmatize(teste)\n"
   ]
  },
  {
   "cell_type": "code",
   "execution_count": null,
   "metadata": {},
   "outputs": [],
   "source": [
    "# importa TfidfVectorizer para criar vetores TF-IDF\n",
    "from sklearn.feature_extraction.text import TfidfVectorizer\n",
    "\n",
    "# instancia um objeto TfidfVectorizer\n",
    "tfidf_vectorizer = TfidfVectorizer(max_df=0.8, max_features=200000,\n",
    "                                 min_df=0.05,\n",
    "                                 use_idf=True, tokenizer=tokenize_and_lemmatize,\n",
    "                                 ngram_range=(1,3))"
   ]
  },
  {
   "cell_type": "code",
   "execution_count": null,
   "metadata": {},
   "outputs": [],
   "source": [
    "tfidf_matrix = tfidf_vectorizer.fit_transform([x for x in data_train['content'].sample(1000)])"
   ]
  },
  {
   "cell_type": "code",
   "execution_count": null,
   "metadata": {},
   "outputs": [],
   "source": [
    "print(tfidf_matrix.shape)\n",
    "\n",
    "print(tfidf_vectorizer.get_feature_names_out())\n",
    "\n",
    "print(tfidf_matrix)"
   ]
  },
  {
   "cell_type": "markdown",
   "metadata": {},
   "source": [
    "## Save data"
   ]
  },
  {
   "cell_type": "markdown",
   "metadata": {},
   "source": []
  },
  {
   "cell_type": "code",
   "execution_count": null,
   "metadata": {},
   "outputs": [],
   "source": [
    "# data = data[['category1', 'category2', 'category3', 'name', 'content']]\n",
    "\n",
    "# data.to_csv('data.csv', index=False)\n",
    "# # data.to_parquet('data.parquet', index=False)"
   ]
  }
 ],
 "metadata": {
  "kernelspec": {
   "display_name": "glpi_venv",
   "language": "python",
   "name": "python3"
  },
  "language_info": {
   "codemirror_mode": {
    "name": "ipython",
    "version": 3
   },
   "file_extension": ".py",
   "mimetype": "text/x-python",
   "name": "python",
   "nbconvert_exporter": "python",
   "pygments_lexer": "ipython3",
   "version": "3.12.3"
  }
 },
 "nbformat": 4,
 "nbformat_minor": 2
}
