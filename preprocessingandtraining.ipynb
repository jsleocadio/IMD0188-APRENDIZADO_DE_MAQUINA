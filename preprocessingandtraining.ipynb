{
 "cells": [
  {
   "cell_type": "markdown",
   "metadata": {},
   "source": [
    "## Configure nltk"
   ]
  },
  {
   "cell_type": "code",
   "execution_count": null,
   "metadata": {},
   "outputs": [],
   "source": [
    "import nltk\n",
    "\n",
    "nltk.download('stopwords')\n",
    "!python -m spacy download pt_core_news_sm"
   ]
  },
  {
   "cell_type": "markdown",
   "metadata": {},
   "source": [
    "## Load data from file"
   ]
  },
  {
   "cell_type": "code",
   "execution_count": null,
   "metadata": {},
   "outputs": [],
   "source": [
    "import pandas as pd\n",
    "from sqlalchemy import create_engine\n",
    "\n",
    "# Load data from file\n",
    "data = pd.read_csv('data.csv')"
   ]
  },
  {
   "cell_type": "markdown",
   "metadata": {},
   "source": [
    "## Category analysis"
   ]
  },
  {
   "cell_type": "code",
   "execution_count": null,
   "metadata": {},
   "outputs": [],
   "source": [
    "### Get all distinct full categories\n",
    "categories = data.drop_duplicates(subset=['fullcategory'])[['category', 'fullcategory']]\n",
    "\n",
    "# Split full categories by level\n",
    "categories_split = categories.join(\n",
    "    categories['fullcategory'].str.split(' > ', expand=True)\n",
    ").rename(columns={0: 'category1', 1: 'category2', 2: 'category3'})[['category1', 'category2', 'category3', 'category', 'fullcategory']]\n",
    "\n",
    "# print(categories_split.drop_duplicates(subset=['category1'])[['category1']].dropna().count())\n",
    "# print(categories_split.drop_duplicates(subset=['category2'])[['category2']].dropna().count())\n",
    "# print(categories_split.drop_duplicates(subset=['category3'])[['category3']].dropna().count())\n",
    "\n",
    "# comparison = categories_split[['category1', 'category2', 'category3', 'category']].copy()\n",
    "\n",
    "# for column in ['category1', 'category2', 'category3']:\n",
    "#     comparison[column] = categories_split[['category',column]].dropna()['category'] == categories_split[column].dropna()\n",
    "\n",
    "# Merge data with split categories\n",
    "data_category = data.set_index('fullcategory').join(categories_split[['fullcategory','category1', 'category2', 'category3']].set_index('fullcategory'))\n",
    "\n",
    "# Reset index\n",
    "data_category = data_category.reset_index()\n",
    "\n",
    "data_category.head()"
   ]
  },
  {
   "cell_type": "markdown",
   "metadata": {},
   "source": [
    "## Clean data"
   ]
  },
  {
   "cell_type": "code",
   "execution_count": null,
   "metadata": {},
   "outputs": [],
   "source": [
    "# Drop missing values for category1\n",
    "data_category = data_category.dropna(subset=['category1'])\n"
   ]
  },
  {
   "cell_type": "code",
   "execution_count": null,
   "metadata": {},
   "outputs": [],
   "source": [
    "# def remove_noise(text):\n",
    "#     import re\n",
    "\n",
    "#     # Converte para minúsculas\n",
    "#     text = text.lower()\n",
    "\n",
    "#     # Remove pontuação\n",
    "#     # []: colchetes são usados para definir uma classe de caracteres.\n",
    "#     # ^: quando usado no início de uma classe de caracteres, o ^ nega a classe, ou seja, seleciona tudo que não está na classe.\n",
    "#     # \\w: corresponde a qualquer caractere alfanumérico (letras e números, incluindo o caractere de sublinhado _)\n",
    "#     # \\s: corresponde a qualquer espaço em branco (espaços, tabulações, quebras de linha).\n",
    "#     text = re.sub(r'[^\\w\\s]', '', text)\n",
    "\n",
    "#     return text"
   ]
  },
  {
   "cell_type": "code",
   "execution_count": null,
   "metadata": {},
   "outputs": [],
   "source": [
    "# columns_to_clean = ['name','content']\n",
    "\n",
    "# for column in columns_to_clean:\n",
    "#     data[column] = data[column].apply(remove_noise)\n",
    "# data.head(5)"
   ]
  },
  {
   "cell_type": "code",
   "execution_count": null,
   "metadata": {},
   "outputs": [],
   "source": [
    "# def remove_stopwords(text):\n",
    "#     from nltk.corpus import stopwords\n",
    "#     # Obtém a lista de stopwords em português usando o NLTK e as converte para um conjunto para melhorar a eficiência da busca\n",
    "#     stop_words = set(stopwords.words('portuguese'))\n",
    "\n",
    "#     # Divide o texto em palavras, remove as stopwords e então junta as palavras restantes de volta em uma string\n",
    "#     text = ' '.join([word for word in text.split() if word not in stop_words])\n",
    "\n",
    "#     return text"
   ]
  },
  {
   "cell_type": "code",
   "execution_count": null,
   "metadata": {},
   "outputs": [],
   "source": [
    "# for column in columns_to_clean:\n",
    "#     data[column] = data[column].apply(remove_stopwords)\n",
    "\n",
    "# data.head(5)"
   ]
  },
  {
   "cell_type": "markdown",
   "metadata": {},
   "source": [
    "## Spliting dataset"
   ]
  },
  {
   "cell_type": "code",
   "execution_count": null,
   "metadata": {},
   "outputs": [],
   "source": [
    "# from sklearn.preprocessing import OneHotEncoder\n",
    "\n",
    "# # Cria um objeto OneHotEncoder\n",
    "# encoder = OneHotEncoder(sparse_output=False)\n",
    "\n",
    "# enc_category1 = encoder.fit_transform(data_category[['category1']])\n",
    "\n",
    "# data_category = pd.concat([data_category, pd.DataFrame(enc_category1, columns=encoder.get_feature_names_out(['category1']))], axis=1)\n",
    "\n",
    "# data_category.head()"
   ]
  },
  {
   "cell_type": "code",
   "execution_count": null,
   "metadata": {},
   "outputs": [],
   "source": [
    "from sklearn.model_selection import train_test_split\n",
    "\n",
    "X_train_val, X_test, y_train_val, y_test = train_test_split(data_category[['name', 'content']], data_category['category1'], test_size=0.5, random_state=42)\n",
    "\n",
    "X_train, X_val, y_train, y_val = train_test_split(X_train_val, y_train_val, test_size=0.5, random_state=42)\n",
    "\n",
    "data_train = pd.concat([X_train, y_train], axis=1)\n",
    "data_val = pd.concat([X_val, y_val], axis=1)\n",
    "data_test = pd.concat([X_test, y_test], axis=1)\n",
    "\n",
    "data_train.info()\n",
    "data_val.info()\n",
    "data_test.info()"
   ]
  },
  {
   "cell_type": "markdown",
   "metadata": {},
   "source": [
    "## Lemmatization and vectorization"
   ]
  },
  {
   "cell_type": "code",
   "execution_count": null,
   "metadata": {},
   "outputs": [],
   "source": [
    "def tokenize_and_lemmatize(text):\n",
    "    import spacy, regex as re\n",
    "    nlp = spacy.load('pt_core_news_sm')\n",
    "\n",
    "    doc = nlp(text)\n",
    "    tokens = [\n",
    "        token.lemma_ \n",
    "        for token in doc \n",
    "        if \n",
    "        not re.search(r'[^\\w\\s]|[\\d]|[\\w\\-\\.]+@([\\w-]+\\.)+[\\w-]{2,}|[\\r\\n\\t]', token.lemma_) \n",
    "        and \n",
    "        token.is_stop == False\n",
    "        ]\n",
    "    return tokens\n",
    "\n",
    "teste = data['content'].sample(100).iloc[0]\n",
    "\n",
    "tokenize_and_lemmatize(teste)\n"
   ]
  },
  {
   "cell_type": "code",
   "execution_count": null,
   "metadata": {},
   "outputs": [],
   "source": [
    "# importa TfidfVectorizer para criar vetores TF-IDF\n",
    "from sklearn.feature_extraction.text import TfidfVectorizer\n",
    "\n",
    "save_dir = './vectorizers'\n",
    "\n",
    "import os\n",
    "os.makedirs(save_dir, exist_ok=True)\n",
    "\n",
    "vectorizers = {}\n",
    "\n",
    "for min_df in [0.01, 0.025, 0.05, 0.075, 0.1]:\n",
    "    # instancia um objeto TfidfVectorizer\n",
    "    tfidf_vectorizer = TfidfVectorizer(max_df=1.0, max_features=200000,\n",
    "                                    min_df=min_df,\n",
    "                                    use_idf=True, tokenizer=tokenize_and_lemmatize,\n",
    "                                    ngram_range=(1,3))\n",
    "\n",
    "    # Check if the vectorizer file exists, if so, load it, if not, create it\n",
    "    if os.path.exists(f'{save_dir}/tfidf_vectorizer_{min_df}.pkl'):\n",
    "        with open(f'{save_dir}/tfidf_vectorizer_{min_df}.pkl', 'rb') as f:\n",
    "            print(f'Loading tfidf_vectorizer_{min_df}')\n",
    "            import pickle\n",
    "            tfidf_vectorizer = pickle.load(f)\n",
    "    else:\n",
    "        print(f'Creating tfidf_vectorizer_{min_df}')\n",
    "        # Create the vectorizer\n",
    "        tfidf_matrix = tfidf_vectorizer.fit_transform([x for x in data_train[['name', 'content']].apply(lambda x: ' '.join(x), axis=1)])\n",
    "\n",
    "        print(tfidf_matrix.shape)\n",
    "\n",
    "        print(f'min_df={min_df}: {len(tfidf_vectorizer.get_feature_names_out())} features')\n",
    "\n",
    "        # save the model to disk\n",
    "        # from joblib import dump\n",
    "        import pickle\n",
    "        with open(f'{save_dir}/tfidf_vectorizer_{min_df}.pkl', 'wb') as f:\n",
    "            pickle.dump(tfidf_vectorizer, f)\n",
    "\n",
    "\n",
    "    vectorizers.update({f'tfidf_vectorizer_{min_df}': tfidf_vectorizer})\n"
   ]
  },
  {
   "cell_type": "markdown",
   "metadata": {},
   "source": [
    "## Transform and create feature columns"
   ]
  },
  {
   "cell_type": "code",
   "execution_count": null,
   "metadata": {},
   "outputs": [],
   "source": [
    "def get_feature_columns(data, vectorizer, columns, feature_names=False):\n",
    "    # Join the columns into a single column\n",
    "    temp = data[columns].apply(lambda x: ' '.join(x), axis=1)\n",
    "\n",
    "    # Transform the column using the vectorizer\n",
    "    tfidf_matrix = temp.apply(lambda x: vectorizer.transform([x]).toarray()[0])\n",
    "\n",
    "    # Convert the list of arrays to a DataFrame\n",
    "    if feature_names:\n",
    "        tfidf_df = pd.DataFrame(tfidf_matrix.tolist(), index=tfidf_matrix.index, columns=vectorizer.get_feature_names_out())\n",
    "    else:\n",
    "        tfidf_df = pd.DataFrame(tfidf_matrix.tolist(), index=tfidf_matrix.index)\n",
    "\n",
    "    # Create a DataFrame with the features\n",
    "    feature_columns = pd.DataFrame(tfidf_df, index=tfidf_df.index)\n",
    "\n",
    "    return feature_columns\n",
    "\n",
    "def get_vectorized_df(data, vectorizer, label_column, text_columns, feature_names=False):\n",
    "    feature_columns = get_feature_columns(data.dropna(), vectorizer, text_columns, feature_names)\n",
    "\n",
    "    # Merge the original DataFrame with the feature columns\n",
    "    if isinstance(data, pd.Series):\n",
    "        vectorized_df = data.to_frame().merge(feature_columns, left_index=True, right_index=True)\n",
    "    else:\n",
    "        vectorized_df = data.merge(feature_columns, left_index=True, right_index=True)\n",
    "\n",
    "    return vectorized_df"
   ]
  },
  {
   "cell_type": "code",
   "execution_count": null,
   "metadata": {},
   "outputs": [],
   "source": [
    "# Get the feature columns for the training data\n",
    "datasets = {\n",
    "    'train': data_train,\n",
    "    'val': data_val,\n",
    "}\n",
    "\n",
    "save_dir = './vectorized_data'\n",
    "os.makedirs(save_dir, exist_ok=True)\n",
    "\n",
    "vectorized_dfs = {}\n",
    "\n",
    "for vectorizer in vectorizers.keys():\n",
    "    for dataset in datasets.keys():\n",
    "        file_path = f'{save_dir}/{vectorizer}_{dataset}.csv'\n",
    "        if(f'{vectorizer}_{dataset}.csv' in os.listdir('./vectorized_data')):\n",
    "            print(f'Loading {dataset} with {vectorizer}')\n",
    "            vectorized_dfs.update({f'{vectorizer}': \n",
    "                                {f'{dataset}': pd.read_csv(file_path)}\n",
    "                                })\n",
    "        else:\n",
    "            print(f'Processing {dataset} with {vectorizer}')\n",
    "            vectorized_dfs.update({f'{vectorizer}': \n",
    "                                {f'{dataset}': get_vectorized_df(datasets[dataset], vectorizers[vectorizer], 'category1', ['name', 'content'], feature_names=True)}\n",
    "                                })\n",
    "            vectorized_dfs[vectorizer][dataset].to_csv(f'./vectorized_data/{vectorizer}_{dataset}.csv', index=False)\n"
   ]
  },
  {
   "cell_type": "markdown",
   "metadata": {},
   "source": [
    "## Classification"
   ]
  },
  {
   "cell_type": "markdown",
   "metadata": {},
   "source": [
    "### KNN"
   ]
  },
  {
   "cell_type": "code",
   "execution_count": null,
   "metadata": {},
   "outputs": [],
   "source": [
    "from sklearn.neighbors import KNeighborsClassifier\n",
    "\n",
    "knn = KNeighborsClassifier(n_neighbors=1,\n",
    "                           metric='cosine'\n",
    "                           )\n",
    "\n",
    "data_train_vectorized_no_category = data_train_vectorized.drop(columns=['category1'])\n",
    "\n",
    "data_train_vectorized_no_category.info()\n",
    "\n",
    "knn.fit(data_train_vectorized_no_category, data_train_vectorized['category1'])"
   ]
  },
  {
   "cell_type": "code",
   "execution_count": null,
   "metadata": {},
   "outputs": [],
   "source": [
    "import matplotlib.pyplot as plt\n",
    "from sklearn.metrics import ConfusionMatrixDisplay\n",
    "\n",
    "data_val_vectorized_no_category = data_val_vectorized.drop(columns=['category1'])\n",
    "\n",
    "data_val_vectorized_no_category.info()\n",
    "\n",
    "print(data_val_vectorized_no_category.shape)\n",
    "\n",
    "y_pred = knn.predict(data_val_vectorized_no_category.values)"
   ]
  },
  {
   "cell_type": "code",
   "execution_count": null,
   "metadata": {},
   "outputs": [],
   "source": [
    "fig, ax = plt.subplots(figsize=(20, 20))\n",
    "ConfusionMatrixDisplay.from_predictions(data_val_vectorized['category1'], y_pred, ax=ax)"
   ]
  }
 ],
 "metadata": {
  "kernelspec": {
   "display_name": "glpi_venv",
   "language": "python",
   "name": "python3"
  },
  "language_info": {
   "codemirror_mode": {
    "name": "ipython",
    "version": 3
   },
   "file_extension": ".py",
   "mimetype": "text/x-python",
   "name": "python",
   "nbconvert_exporter": "python",
   "pygments_lexer": "ipython3",
   "version": "3.12.3"
  }
 },
 "nbformat": 4,
 "nbformat_minor": 2
}
