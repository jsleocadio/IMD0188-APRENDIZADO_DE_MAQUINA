{
 "cells": [
  {
   "cell_type": "markdown",
   "metadata": {},
   "source": [
    "## Load datasets"
   ]
  },
  {
   "cell_type": "code",
   "execution_count": null,
   "metadata": {},
   "outputs": [],
   "source": [
    "import pandas as pd\n",
    "import os\n",
    "\n",
    "dfs_train = {}\n",
    "dfs_val = {}\n",
    "for file in os.listdir(\"vectorized_data\"):\n",
    "    if file.endswith(\"train.csv\"):\n",
    "        df = pd.read_csv(\"vectorized_data/\" + file, index_col=0)\n",
    "        key = file.split(\"_\")[-2]\n",
    "        dfs_train[key] = df\n",
    "    elif file.endswith(\"val.csv\"):\n",
    "        df = pd.read_csv(\"vectorized_data/\" + file, index_col=0)\n",
    "        key = file.split(\"_\")[-2]\n",
    "        dfs_val[key] = df\n",
    "\n",
    "for key in dfs_train:\n",
    "    dfs_train[key] = {\n",
    "        'label': dfs_train[key][\"category1\"],\n",
    "        'data': dfs_train[key].drop(columns=[\"category1\"])\n",
    "    }\n",
    "    \n",
    "    print(f'DFs train {key} (data):{dfs_train[key]['data'].shape}')\n",
    "\n",
    "for key in dfs_val:\n",
    "    dfs_val[key] = {\n",
    "        'label': dfs_val[key][\"category1\"],\n",
    "        'data': dfs_val[key].drop(columns=[\"category1\"])\n",
    "    }\n",
    "    \n",
    "    print(f'DFs validation {key} (data):{dfs_val[key]['data'].shape}')"
   ]
  },
  {
   "cell_type": "markdown",
   "metadata": {},
   "source": [
    "## Prepare datasets"
   ]
  },
  {
   "cell_type": "code",
   "execution_count": 39,
   "metadata": {},
   "outputs": [],
   "source": [
    "def calculateMeanAbsCorrelation(df):\n",
    "    return df.corr().abs().mean()\n",
    "\n",
    "def selectLowestCorrelationFeatures(df, num_features):\n",
    "    mean_abs_correlation = calculateMeanAbsCorrelation(df)\n",
    "    mean_abs_correlation.sort_values(ascending=True, inplace=True)\n",
    "    mean_abs_correlation = mean_abs_correlation[:num_features]\n",
    "    list_of_features = mean_abs_correlation.index.tolist()\n",
    "    return list_of_features, df[list_of_features]"
   ]
  },
  {
   "cell_type": "markdown",
   "metadata": {},
   "source": [
    "### Correlation"
   ]
  },
  {
   "cell_type": "code",
   "execution_count": null,
   "metadata": {},
   "outputs": [],
   "source": [
    "dfs_train_corr3 = {}\n",
    "for key, item in dfs_train.items():\n",
    "    print(f'Generating datasets with 3 least correlated features for training data {key}')\n",
    "    list_of_features, df = selectLowestCorrelationFeatures(item['data'], 3)\n",
    "    print(f'Features: {list_of_features}')\n",
    "    dfs_train_corr3[key] = {\n",
    "        'label': item['label'],\n",
    "        'data': df,\n",
    "        'features': list_of_features\n",
    "    }\n",
    "\n",
    "dfs_train_corr9 = {}\n",
    "for key, item in dfs_train.items():\n",
    "    print(f'Generating datasets with 9 least correlated features for training data {key}')\n",
    "    list_of_features, df = selectLowestCorrelationFeatures(item['data'], 9)\n",
    "    print(f'Features: {list_of_features}')\n",
    "    dfs_train_corr9[key] = {\n",
    "        'label': item['label'],\n",
    "        'data': df,\n",
    "        'features': list_of_features\n",
    "    }"
   ]
  },
  {
   "cell_type": "markdown",
   "metadata": {},
   "source": [
    "### PCA"
   ]
  },
  {
   "cell_type": "code",
   "execution_count": null,
   "metadata": {},
   "outputs": [],
   "source": [
    "from sklearn.decomposition import PCA\n",
    "\n",
    "dfs_train_pca3 = {}\n",
    "for key, item in dfs_train.items():\n",
    "    print(f'Generating datasets with 3 PCA features for training data {key}')\n",
    "    df = PCA(n_components=3, whiten=True).fit_transform(item['data'])\n",
    "    dfs_train_pca3[key] = {\n",
    "        'label': item['label'],\n",
    "        'data': df\n",
    "    }\n",
    "\n",
    "dfs_train_pca90 = {}\n",
    "for key, item in dfs_train.items():\n",
    "    print(f'Generating datasets with 90 PCA features for training data {key}')\n",
    "    df = PCA(n_components=0.9, whiten=True).fit_transform(item['data'])\n",
    "    dfs_train_pca90[key] = {\n",
    "        'label': item['label'],\n",
    "        'data': df\n",
    "    }"
   ]
  },
  {
   "cell_type": "markdown",
   "metadata": {},
   "source": [
    "## Clusterization"
   ]
  },
  {
   "cell_type": "markdown",
   "metadata": {},
   "source": [
    "### Define helper functions"
   ]
  }
 ],
 "metadata": {
  "kernelspec": {
   "display_name": "glpi_venv",
   "language": "python",
   "name": "python3"
  },
  "language_info": {
   "codemirror_mode": {
    "name": "ipython",
    "version": 3
   },
   "file_extension": ".py",
   "mimetype": "text/x-python",
   "name": "python",
   "nbconvert_exporter": "python",
   "pygments_lexer": "ipython3",
   "version": "3.12.3"
  }
 },
 "nbformat": 4,
 "nbformat_minor": 2
}
