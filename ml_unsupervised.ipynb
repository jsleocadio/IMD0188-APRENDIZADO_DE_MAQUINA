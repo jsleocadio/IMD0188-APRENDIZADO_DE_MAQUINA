{
 "cells": [
  {
   "cell_type": "code",
   "execution_count": null,
   "metadata": {},
   "outputs": [],
   "source": [
    "import pandas as pd\n",
    "import os\n",
    "\n",
    "dfs = {}\n",
    "for file in os.listdir(\"vectorized_data\"):\n",
    "    if file.endswith(\".csv\"):\n",
    "        df = pd.read_csv(\"vectorized_data/\" + file, index_col=0)\n",
    "        dfs[file] = df\n",
    "\n",
    "dfs_no_labels = {}\n",
    "for key in dfs:\n",
    "    dfs_no_labels[key] = dfs[key].drop(columns=[\"category1\"])\n",
    "    \n",
    "    dfs_no_labels[key].info()"
   ]
  },
  {
   "cell_type": "code",
   "execution_count": null,
   "metadata": {},
   "outputs": [],
   "source": [
    "def calculateMeanAbsCorrelation(df):\n",
    "    return df.corr().abs().mean()\n",
    "\n",
    "\n",
    "for key,item in dfs_no_labels.items():\n",
    "    print(key)\n",
    "    print(calculateMeanAbsCorrelation(item))\n",
    "    print(\"\\n\")"
   ]
  }
 ],
 "metadata": {
  "kernelspec": {
   "display_name": "glpi_venv",
   "language": "python",
   "name": "python3"
  },
  "language_info": {
   "codemirror_mode": {
    "name": "ipython",
    "version": 3
   },
   "file_extension": ".py",
   "mimetype": "text/x-python",
   "name": "python",
   "nbconvert_exporter": "python",
   "pygments_lexer": "ipython3",
   "version": "3.12.3"
  }
 },
 "nbformat": 4,
 "nbformat_minor": 2
}
