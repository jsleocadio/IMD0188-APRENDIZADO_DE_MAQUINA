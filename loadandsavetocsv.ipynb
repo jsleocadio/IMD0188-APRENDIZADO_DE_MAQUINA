{
 "cells": [
  {
   "cell_type": "markdown",
   "metadata": {},
   "source": [
    "## Load data from DB and save to file"
   ]
  },
  {
   "cell_type": "code",
   "execution_count": null,
   "metadata": {},
   "outputs": [],
   "source": [
    "import os\n",
    "from dotenv import load_dotenv\n",
    "\n",
    "# Carregar variáveis do arquivo .env\n",
    "load_dotenv()\n",
    "\n",
    "server = \"127.0.0.1\"\n",
    "port = \"3306\"\n",
    "database = \"glpi\"\n",
    "# Acessar as variáveis de ambiente\n",
    "user = os.getenv('MARIADB_USER')\n",
    "password = os.getenv('MARIADB_PASSWORD')"
   ]
  },
  {
   "cell_type": "code",
   "execution_count": null,
   "metadata": {},
   "outputs": [],
   "source": [
    "import pandas as pd\n",
    "from sqlalchemy import create_engine\n",
    "\n",
    "# Criar conexão com o MariaDB\n",
    "engine = create_engine(f\"mariadb+pymysql://{user}:{password}@{server}:{port}/{database}\")\n",
    "\n",
    "# Ler os dados do banco de dados\n",
    "sql = \"\"\"\n",
    "SELECT\n",
    "\ttickets.id              AS id\n",
    ",\ttickets.name            AS name\n",
    ",\ttickets.content         AS content\n",
    ",\tcategory.name           AS category\n",
    ", \tcategory.completename   AS fullcategory\n",
    "FROM glpi_tickets tickets\n",
    "LEFT JOIN glpi_itilcategories category\n",
    "ON tickets.itilcategories_id = category.id\n",
    "\"\"\"\n",
    "data = pd.read_sql(sql, engine)\n",
    "data.info()\n",
    "data.to_csv('data.csv', index=False)"
   ]
  }
 ],
 "metadata": {
  "kernelspec": {
   "display_name": "glpi_venv",
   "language": "python",
   "name": "python3"
  },
  "language_info": {
   "codemirror_mode": {
    "name": "ipython",
    "version": 3
   },
   "file_extension": ".py",
   "mimetype": "text/x-python",
   "name": "python",
   "nbconvert_exporter": "python",
   "pygments_lexer": "ipython3",
   "version": "3.12.3"
  }
 },
 "nbformat": 4,
 "nbformat_minor": 2
}
